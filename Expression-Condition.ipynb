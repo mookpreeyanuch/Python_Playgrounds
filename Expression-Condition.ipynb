{
  "cells": [
    {
      "cell_type": "markdown",
      "metadata": {
        "id": "Nn_25H5BkfUX"
      },
      "source": [
        "# Expression/Condition"
      ]
    },
    {
      "cell_type": "markdown",
      "metadata": {
        "id": "MKYO1wsSz-QG"
      },
      "source": [
        "## if statement\n",
        "* if เป็นคำสั่งไว้สำหรับกำหนดเงื่อนไข เมื่อเงี่อนไขที่กำหนดไว้เป็น True จึงจะทำตามขั้นตอนต่อไป\n",
        "\n"
      ]
    },
    {
      "cell_type": "code",
      "execution_count": 2,
      "metadata": {
        "id": "kKKpsFZl558_"
      },
      "outputs": [],
      "source": [
        "#ถ้าเงือนไขเป็น true เมื่อไหร่ \n",
        "#ไพธอนจะปริ้นที่ true \n",
        "x = 0 \n",
        "y = 5"
      ]
    },
    {
      "cell_type": "code",
      "execution_count": 3,
      "metadata": {
        "colab": {
          "base_uri": "https://localhost:8080/"
        },
        "id": "2pEgJhouk28T",
        "outputId": "f6b83fbd-03bd-4cc7-fd19-8a573cda3ecc"
      },
      "outputs": [
        {
          "name": "stdout",
          "output_type": "stream",
          "text": [
            "yes\n"
          ]
        }
      ],
      "source": [
        "#ตรงตามเงี่อน x น้อยกว่า y จึง print('yes)\n",
        "if x < y:                      \n",
        "    print('yes')"
      ]
    },
    {
      "cell_type": "code",
      "execution_count": 4,
      "metadata": {
        "id": "qvGNVeAuk255"
      },
      "outputs": [],
      "source": [
        "#ไม่ตรงตามเงี่อน x น้อยกว่า y\n",
        "if y < x:                        \n",
        "    print('yes')"
      ]
    },
    {
      "cell_type": "code",
      "execution_count": 5,
      "metadata": {
        "colab": {
          "base_uri": "https://localhost:8080/"
        },
        "id": "0t2QVxQyf3__",
        "outputId": "4b4ff19b-5d69-4a42-fe9e-456af2ceebf7"
      },
      "outputs": [
        {
          "data": {
            "text/plain": [
              "False"
            ]
          },
          "execution_count": 5,
          "metadata": {},
          "output_type": "execute_result"
        }
      ],
      "source": [
        "y < x "
      ]
    },
    {
      "cell_type": "code",
      "execution_count": 6,
      "metadata": {
        "id": "r1JigI7Tk3Aa"
      },
      "outputs": [],
      "source": [
        "#ในกรณีที่ input เป็น 0 จะมองเป็นค่า False\n",
        "if x:                            \n",
        "    print('yes')"
      ]
    },
    {
      "cell_type": "code",
      "execution_count": 7,
      "metadata": {
        "colab": {
          "base_uri": "https://localhost:8080/"
        },
        "id": "402IZY-Wk3Cy",
        "outputId": "41808ee1-3a95-416f-c204-b363916366b1"
      },
      "outputs": [
        {
          "name": "stdout",
          "output_type": "stream",
          "text": [
            "yes\n"
          ]
        }
      ],
      "source": [
        "#ในกรณีที่ input เป็นตัวเลขที่ไม่ใช่ 0 จะมองเป็นค่า True\n",
        "if y:                               \n",
        "    print('yes')"
      ]
    },
    {
      "cell_type": "code",
      "execution_count": 8,
      "metadata": {
        "colab": {
          "base_uri": "https://localhost:8080/"
        },
        "id": "--UExpA9k3FG",
        "outputId": "bef499d8-40c4-4033-835c-877db197cf56"
      },
      "outputs": [
        {
          "name": "stdout",
          "output_type": "stream",
          "text": [
            "yes\n"
          ]
        }
      ],
      "source": [
        "if x or y:                       \n",
        "    print('yes')"
      ]
    },
    {
      "cell_type": "code",
      "execution_count": 9,
      "metadata": {
        "id": "ar9A7G5Mk3NV"
      },
      "outputs": [],
      "source": [
        "if x and y:                        \n",
        "    print('yes')"
      ]
    },
    {
      "cell_type": "code",
      "execution_count": 10,
      "metadata": {
        "colab": {
          "base_uri": "https://localhost:8080/"
        },
        "id": "LIVS43pwlKMf",
        "outputId": "1cb5f450-30ea-4dac-ad9f-3f610f0949f0"
      },
      "outputs": [
        {
          "name": "stdout",
          "output_type": "stream",
          "text": [
            "yes\n"
          ]
        }
      ],
      "source": [
        "#ตรงตามเงื่อนไข 'aul' อยู่ใน 'grault' ถ้ามีเลข หรืออักษรใน input ให้ปริ้น in \n",
        "if 'aul' in 'grault':           \n",
        "    print('yes')"
      ]
    },
    {
      "cell_type": "code",
      "execution_count": 11,
      "metadata": {
        "id": "YPR7IQK8lKOd"
      },
      "outputs": [],
      "source": [
        "if 'quux' in ['foo', 'bar', 'baz']:\n",
        "    print('yes')"
      ]
    },
    {
      "cell_type": "markdown",
      "metadata": {
        "id": "Grcr0D692Zxz"
      },
      "source": [
        "## การเว้นวรรค และการจัดกลุ่ม\n",
        "\n",
        "```\n",
        "if CONDITION: \n",
        "    # อย่าลืม : ด้านหลัง\n",
        "    # เว้นวรรคด้านหน้า (indent) เพื่อให้รู้ขอบเขตของ if โดยจะเว้น 2 เคาะ (มาตรฐานเก่า) หรือ 4 เคาะ (มาตรฐานใหม่) ก็ได้ ปกติแล้วจะใช้การกด tab เอา\n",
        "    DO SOMETHING\n",
        "    DO MORE THINGS\n",
        "# ยกเลิกเว้นวรรคด้านหน้าเพื่อบอกว่าหมดช่วง if แล้ว\n",
        "DO OTHER THINGS\n",
        "```\n"
      ]
    },
    {
      "cell_type": "code",
      "execution_count": 12,
      "metadata": {
        "colab": {
          "base_uri": "https://localhost:8080/"
        },
        "id": "-d0U_K5sZ3aQ",
        "outputId": "820e2eb4-91a7-4c6e-b38e-b6b1f65c0582"
      },
      "outputs": [
        {
          "name": "stdout",
          "output_type": "stream",
          "text": [
            "Outside if\n"
          ]
        }
      ],
      "source": [
        "#โครงสร้าง\n",
        "if False: #Show True False cases\n",
        "  print('Hello 1')\n",
        "  print('Hello 2')\n",
        "  print('Hello 3')\n",
        "print('Outside if')"
      ]
    },
    {
      "cell_type": "markdown",
      "metadata": {
        "id": "0p0hIZTX2kJV"
      },
      "source": [
        "## else และ elif\n",
        "* ในกรณีที่มีมากกว่า 1 เงื่อนไข สามารถใช้คำสั่ง elif และ else\n",
        " * elif ใช้ในกรณีที่ต้องการจะเจาะจงเงื่อนไข\n",
        " * else ใช้กรณีที่ไม่เจาะจงเงื่อนไข หากไม่มีเงื่อนไขที่ตรงกับ if ก่อนหน้า ก็จะเข้าเงื่อนไข else ทันที\n"
      ]
    },
    {
      "cell_type": "code",
      "execution_count": 13,
      "metadata": {
        "colab": {
          "base_uri": "https://localhost:8080/"
        },
        "id": "tQ3nft8cZ3ae",
        "outputId": "7409372f-9792-4ea3-8f63-1f79875fa3ef"
      },
      "outputs": [
        {
          "name": "stdout",
          "output_type": "stream",
          "text": [
            "Good bye\n"
          ]
        }
      ],
      "source": [
        "a = 5\n",
        "b = 4\n",
        "if a<b: # ถ้า a น้อยกว่า b \n",
        "  print('Hello')\n",
        "else:  # ไม่เช่นนั้น\n",
        "  print('Good bye')"
      ]
    },
    {
      "cell_type": "code",
      "execution_count": 14,
      "metadata": {
        "colab": {
          "base_uri": "https://localhost:8080/"
        },
        "id": "_YRKJrtI3VJs",
        "outputId": "1c5a68a5-3bec-4bb0-e897-0703b3f1ba13"
      },
      "outputs": [
        {
          "name": "stdout",
          "output_type": "stream",
          "text": [
            "(first suite)\n",
            "x is small\n"
          ]
        }
      ],
      "source": [
        "x = 20\n",
        "if x < 50:\n",
        "    print('(first suite)')\n",
        "    print('x is small')\n",
        "else:\n",
        "    print('(second suite)')\n",
        "    print('x is large')"
      ]
    },
    {
      "cell_type": "code",
      "execution_count": 15,
      "metadata": {
        "colab": {
          "base_uri": "https://localhost:8080/"
        },
        "id": "HdxuiU5YuvhB",
        "outputId": "21993816-e18b-4172-b582-89d835e5112a"
      },
      "outputs": [
        {
          "name": "stdout",
          "output_type": "stream",
          "text": [
            "(second suite)\n",
            "x is large\n"
          ]
        }
      ],
      "source": [
        "x = 120\n",
        "if x < 50:\n",
        "    print('(first suite)')\n",
        "    print('x is small')\n",
        "else:\n",
        "    print('(second suite)')\n",
        "    print('x is large')"
      ]
    },
    {
      "cell_type": "code",
      "execution_count": 16,
      "metadata": {
        "colab": {
          "base_uri": "https://localhost:8080/"
        },
        "id": "NzsqkQOhuzFo",
        "outputId": "8e791c76-73e0-4da6-ab5b-d4136dea3c60"
      },
      "outputs": [
        {
          "name": "stdout",
          "output_type": "stream",
          "text": [
            "I don't know who you are!\n"
          ]
        }
      ],
      "source": [
        "name = 'joy'\n",
        "if name == 'Fred':\n",
        "    print('Hello Fred')\n",
        "elif name == 'Xander':\n",
        "    print('Hello Xander')\n",
        "elif name == 'Joe':\n",
        "    print('Hello Joe')\n",
        "elif name == 'Arnold':\n",
        "    print('Hello Arnold')\n",
        "else:\n",
        "    print(\"I don't know who you are!\")"
      ]
    },
    {
      "cell_type": "markdown",
      "metadata": {
        "id": "qoFw97Ib2rz7"
      },
      "source": [
        "## การเขียน if ภายใน 1 บรรทัด"
      ]
    },
    {
      "cell_type": "markdown",
      "metadata": {
        "id": "Yqv8C_3w3YQS"
      },
      "source": [
        "```\n",
        "\n",
        "It is customary to write if <expr> on one line and <statement> indented on the following line like this:\n",
        "\n",
        "if <expr>:\n",
        "    <statement>\n",
        "  \n",
        "  But it is permissible to write an entire if statement on one line. The following is functionally equivalent to the example above:\n",
        "  if <expr>: <statement>\n",
        "\n",
        "```\n"
      ]
    },
    {
      "cell_type": "code",
      "execution_count": 30,
      "metadata": {
        "colab": {
          "base_uri": "https://localhost:8080/"
        },
        "id": "c9vzrVcO31hK",
        "outputId": "4b18209d-0329-4a31-bd02-dab980c419df"
      },
      "outputs": [
        {
          "name": "stdout",
          "output_type": "stream",
          "text": [
            "1\n",
            "2\n",
            "3\n"
          ]
        }
      ],
      "source": [
        "if 'f' in 'foo': \n",
        "    print('1')\n",
        "    print('2') \n",
        "    print('3')"
      ]
    },
    {
      "cell_type": "code",
      "execution_count": 32,
      "metadata": {
        "colab": {
          "base_uri": "https://localhost:8080/"
        },
        "id": "jXUa7r_fJLvq",
        "outputId": "a75b52d1-da4f-4768-ac52-559f9c10b9a2"
      },
      "outputs": [
        {
          "name": "stdout",
          "output_type": "stream",
          "text": [
            "1\n",
            "2\n",
            "3\n"
          ]
        }
      ],
      "source": [
        "if 'f' in 'foo' : print('1'); print('2'); print('3')"
      ]
    },
    {
      "cell_type": "code",
      "execution_count": 33,
      "metadata": {
        "colab": {
          "base_uri": "https://localhost:8080/"
        },
        "id": "GkOGoIriJW86",
        "outputId": "29d4c6e1-f080-478e-9fd1-4687b45b745f"
      },
      "outputs": [
        {
          "name": "stdout",
          "output_type": "stream",
          "text": [
            "qux\n",
            "quux\n"
          ]
        }
      ],
      "source": [
        "x = 2 \n",
        "if x == 1: print('foo'); print('bar'); print(baz)\n",
        "elif x== 2: print('qux'); print('quux')\n",
        "else: print('corge'); print(grault)"
      ]
    },
    {
      "cell_type": "code",
      "execution_count": 35,
      "metadata": {
        "colab": {
          "base_uri": "https://localhost:8080/"
        },
        "id": "Spr5X0pM5TPR",
        "outputId": "1083452f-0b5e-42db-9431-f15cd4eb31cd"
      },
      "outputs": [
        {
          "name": "stdout",
          "output_type": "stream",
          "text": [
            "qux\n",
            "quux\n"
          ]
        }
      ],
      "source": [
        "x = 2\n",
        "if x == 1:\n",
        "    print('foo')\n",
        "    print('bar')\n",
        "    print('baz')\n",
        "elif x == 2:\n",
        "    print('qux')\n",
        "    print('quux')\n",
        "else:\n",
        "    print('corge')\n",
        "    print('grault')"
      ]
    },
    {
      "cell_type": "markdown",
      "metadata": {
        "id": "VI056LvC2-Id"
      },
      "source": [
        "## Pass Statement"
      ]
    },
    {
      "cell_type": "markdown",
      "metadata": {
        "id": "IMzTCX7V-AM1"
      },
      "source": [
        "```\n",
        "คำสั่ง pass ไม่ทำอะไรเลย แต่มีไว้เผื่อเวลาเราวางโครงสร้างโค้ดไว้แล้ว แต่ยังไม่ได้เขียนในส่วนนั้น บรรจุคำสั่งนี้ไว้เพื่อให้สามารถทดสอบการรันได้\n",
        "```"
      ]
    },
    {
      "cell_type": "code",
      "execution_count": 36,
      "metadata": {
        "id": "JE-z9i06-GLM"
      },
      "outputs": [],
      "source": [
        "a = 33\n",
        "b = 200\n",
        "if b > a:\n",
        "  pass\n",
        "elif a < b:\n",
        "  print(b)"
      ]
    },
    {
      "cell_type": "markdown",
      "metadata": {
        "id": "q_Tf6lgW26UD"
      },
      "source": [
        "## Conditional Expressions\n",
        "```\n",
        "Expression ทางตรรกศาสตร์ (Boolean Expression) \n",
        "\n",
        "สามารถใช้ Comparison Operators เพื่อเปรียบเทียบค่าระหว่างสองตัวแปร โดยสร้างเป็น conditional statement\n",
        "== คือ equal\n",
        "!= คือ not equal\n",
        "> คือ greater than\n",
        "< คือ less than\n",
        ">= คือ greater than or equal to\n",
        "<= คือ less than or equal to\n",
        "\n",
        "สามารถใช้ Logical Operators เพื่อรวมหลาย conditional statement เข้าด้วยกัน\n",
        "and จะ return ค่า True ถ้า statement ทั้งหมดเป็น True\n",
        "or  จะ return ค่า True ถ้ามีเพียงหนึ่ง statement ที่เป็น True\n",
        "not จะ return ค่า จะ return ค่าตรงข้ามที่ได้จาก conditional statement\n",
        "\n",
        "```"
      ]
    },
    {
      "cell_type": "code",
      "execution_count": 37,
      "metadata": {
        "colab": {
          "base_uri": "https://localhost:8080/"
        },
        "id": "S_jiwukyKjtZ",
        "outputId": "04bf84a8-9f90-4b2e-cf84-db447813b2a8"
      },
      "outputs": [
        {
          "name": "stdout",
          "output_type": "stream",
          "text": [
            "False\n",
            "True\n",
            "False\n",
            "False\n"
          ]
        }
      ],
      "source": [
        "a = 33\n",
        "b = 200\n",
        "\n",
        "print(a==b)\n",
        "print(a<b)\n",
        "print(a>b)\n",
        "print(a>=b)"
      ]
    },
    {
      "cell_type": "code",
      "execution_count": 38,
      "metadata": {
        "colab": {
          "base_uri": "https://localhost:8080/",
          "height": 84
        },
        "id": "esIdwttaVA9F",
        "outputId": "1f2e5441-3089-4b2e-a098-a929bf916ab9"
      },
      "outputs": [
        {
          "name": "stdout",
          "output_type": "stream",
          "text": [
            "False\n",
            "True\n",
            "False\n",
            "False\n"
          ]
        }
      ],
      "source": [
        "print(a==b) # ใช้ == เพื่อเปรียบเทียบ, ใช้ = เพื่อกำหนดค่า\n",
        "print(a<b)\n",
        "print(a>b)\n",
        "print(a>=b)"
      ]
    },
    {
      "cell_type": "code",
      "execution_count": 39,
      "metadata": {
        "colab": {
          "base_uri": "https://localhost:8080/"
        },
        "id": "Dfe9dhR7VHne",
        "outputId": "d6c33519-c25f-46a1-a2d1-490d17e1a950"
      },
      "outputs": [
        {
          "name": "stdout",
          "output_type": "stream",
          "text": [
            "False\n",
            "False\n",
            "False\n",
            "False\n"
          ]
        }
      ],
      "source": [
        "print(a==b and a>b)\n",
        "print(a>=b and a>b)\n",
        "print(a==b or a>b)\n",
        "print(not a==b and a>b)"
      ]
    },
    {
      "cell_type": "code",
      "execution_count": 27,
      "metadata": {
        "colab": {
          "base_uri": "https://localhost:8080/",
          "height": 84
        },
        "id": "oyQUaRP4VK6e",
        "outputId": "9e8c212b-7eb7-4402-b5f1-9cc67df1fb01"
      },
      "outputs": [
        {
          "name": "stdout",
          "output_type": "stream",
          "text": [
            "True\n",
            "False\n",
            "False\n",
            "True\n"
          ]
        }
      ],
      "source": [
        "nameList = ['winn','peter','john']\n",
        "name = 'winn'\n",
        "print(name in nameList) # ตรวจสอบว่าค่าของ name อยู่ใน nameList หรือเปล่า\n",
        "print(name not in nameList) # ตรวจสอบว่าค่าของ name ไม่ได้อยู่ใน nameList หรือเปล่า\n",
        "print('smith' in nameList) # ตรวจสอบว่าค่า 'smith' อยู่ใน nameList หรือเปล่า\n",
        "print(name[0]=='w')"
      ]
    },
    {
      "cell_type": "code",
      "execution_count": null,
      "metadata": {},
      "outputs": [],
      "source": []
    }
  ],
  "metadata": {
    "colab": {
      "collapsed_sections": [],
      "name": "Expression/Condition_botnoi.ipynb",
      "provenance": []
    },
    "kernelspec": {
      "display_name": "Python 3",
      "name": "python3"
    },
    "language_info": {
      "codemirror_mode": {
        "name": "ipython",
        "version": 3
      },
      "file_extension": ".py",
      "mimetype": "text/x-python",
      "name": "python",
      "nbconvert_exporter": "python",
      "pygments_lexer": "ipython3",
      "version": "3.10.3"
    }
  },
  "nbformat": 4,
  "nbformat_minor": 0
}
