{
  "cells": [
    {
      "cell_type": "markdown",
      "metadata": {
        "id": "rY3uM9Og5OUF"
      },
      "source": [
        "# 1.การวนซ้ำคืออะไร\n",
        "* การวนซ้ำคือการรันชุดคำสั่งเดิมซ้ำๆจนกว่าจะตรงตามเงื่อนไขหรือจำนวนรอบที่กำหนด \n",
        "* มีประโยชน์ในกรณีที่ต้องการรันคำสั่งบนข้อมูลที่มีจำนวนมาก\n",
        "* แบ่งเป็น 2 ประเภทหลักๆตามลักษณะการทำงาน ได้แก่ for loop และ while loop\n",
        " * for loop เป็นการวนซ้ำของคำสั่งโดยมีจำนวนรอบการวนซ้ำจำกัด เช่น วนซ้ำ 10 รอบหรือวนซ้ำตามจำนวน value ที่อยู่ใน list\n",
        " * while loop เป็นการวนซ้ำเมื่อตรงตามเงื่อนไข เช่น เมื่อตัวแปรที่กำหนดไว้มีค่าน้อยกว่า 1 จะวนซ้ำคำสั่งไปเรื่อยๆ"
      ]
    },
    {
      "cell_type": "markdown",
      "metadata": {
        "id": "Lr1IlcUX5wBS"
      },
      "source": [
        "# 2.การวนซ้ำแบบ while"
      ]
    },
    {
      "cell_type": "markdown",
      "metadata": {
        "id": "t3E69YwC5zwR"
      },
      "source": [
        "## 2.1 อธิบายใช้คำสั่ง while\n",
        "* while เป็นคำสั่งที่ใช้ในการสร้าง while loop โดยเมื่อ expression ที่กำหนดไว้เป็น True จะมีการวนซ้ำของคำสั่งไปเรื่อยๆ"
      ]
    },
    {
      "cell_type": "markdown",
      "metadata": {
        "id": "wjmwV2HAK_GU"
      },
      "source": [
        "```python\n",
        "#Syntax While Loop\n",
        "\n",
        "\n",
        "while <expr>:\n",
        "    <statement(s)>\n",
        "\n",
        "\n",
        "# <statement(s)> represents the block to be repeatedly executed, \n",
        "# often referred to as the body of the loop. \n",
        "# This is denoted with indentation, just as in an if statement.\n",
        "```\n"
      ]
    },
    {
      "cell_type": "markdown",
      "metadata": {
        "id": "obA6osTX52gJ"
      },
      "source": [
        "## 2.2 ยกตัวอย่างการใช้ while"
      ]
    },
    {
      "cell_type": "code",
      "execution_count": 42,
      "metadata": {
        "colab": {
          "base_uri": "https://localhost:8080/",
          "height": 186
        },
        "id": "KMbNAMmFF5A3",
        "outputId": "a9ee0835-cc36-4bb4-b155-4e60c54db27e"
      },
      "outputs": [
        {
          "name": "stdout",
          "output_type": "stream",
          "text": [
            "0\n",
            "1\n",
            "2\n",
            "3\n",
            "4\n",
            "5\n",
            "6\n",
            "7\n",
            "8\n",
            "9\n"
          ]
        }
      ],
      "source": [
        "i = 0\n",
        "while i < 10:\n",
        "  print(i)\n",
        "  i = i + 1"
      ]
    },
    {
      "cell_type": "markdown",
      "metadata": {
        "id": "Kd5nIwBE6SBh"
      },
      "source": [
        "# 3.if-else in while"
      ]
    },
    {
      "cell_type": "markdown",
      "metadata": {
        "id": "M6W7GUXJ6gSy"
      },
      "source": [
        "## 3.1 อธิบายการใช้ if-else ใน while"
      ]
    },
    {
      "cell_type": "markdown",
      "metadata": {
        "id": "Q6Ga7h5RNLua"
      },
      "source": [
        "```python\n",
        "\n",
        "#The syntax\n",
        "\n",
        "\n",
        "while <expr>:\n",
        "    <statement(s)>\n",
        "else:\n",
        "    <additional_statement(s)>\n",
        "\n",
        "\n",
        "#The <additional_statement(s)> specified in the else clause will be executed when the while loop terminates.\n",
        "```"
      ]
    },
    {
      "cell_type": "markdown",
      "metadata": {
        "id": "ngrN7xSU6ko5"
      },
      "source": [
        "## 3.2 ยกตัวอย่าง if-else ใน while"
      ]
    },
    {
      "cell_type": "code",
      "execution_count": 43,
      "metadata": {
        "colab": {
          "base_uri": "https://localhost:8080/",
          "height": 35
        },
        "id": "hW6GSkxeM9vl",
        "outputId": "b8749c02-f35e-44a0-ec85-4004e53070f3"
      },
      "outputs": [
        {
          "name": "stdout",
          "output_type": "stream",
          "text": [
            "Loop done.\n"
          ]
        }
      ],
      "source": [
        "n = 0\n",
        "while n < 0:\n",
        "    n += 1\n",
        "    # n = n +1\n",
        "    print(n)\n",
        "    if n == 2:\n",
        "        break\n",
        "else:\n",
        "    print('Loop done.')"
      ]
    },
    {
      "cell_type": "markdown",
      "metadata": {
        "id": "oz5QHk3x6nJa"
      },
      "source": [
        "# 4.Nested while loop and infinite loop\n",
        "\n",
        "* Suppose you write a while loop that theoretically never ends\n"
      ]
    },
    {
      "cell_type": "markdown",
      "metadata": {
        "id": "TRB8PQ4v6rnR"
      },
      "source": [
        "## 4.1 ยกตัวอย่าง infinite while loop"
      ]
    },
    {
      "cell_type": "markdown",
      "metadata": {
        "id": "74cVhhE3SwmK"
      },
      "source": [
        "```python\n",
        ">>> while True:\n",
        "...     print('foo')\n",
        "...\n",
        "foo\n",
        "foo\n",
        "foo\n",
        "  .\n",
        "  .\n",
        "  .\n",
        "foo\n",
        "foo\n",
        "\n",
        "```"
      ]
    },
    {
      "cell_type": "code",
      "execution_count": 7,
      "metadata": {
        "colab": {
          "base_uri": "https://localhost:8080/",
          "height": 1000
        },
        "id": "vQyGLhtjBgya",
        "outputId": "1abf746e-83e9-485a-c7de-dbb063bd40ab"
      },
      "outputs": [
        {
          "name": "stdout",
          "output_type": "stream",
          "text": [
            "1\n"
          ]
        }
      ],
      "source": [
        "a = 1 \n",
        "while a == 1:\n",
        "  print(a)\n",
        "  # a = a+1\n",
        "  # break"
      ]
    },
    {
      "cell_type": "markdown",
      "metadata": {
        "id": "Pt25pG7N60cJ"
      },
      "source": [
        "## 4.2 ยกตัวอย่างการใช้ nested while loop"
      ]
    },
    {
      "cell_type": "code",
      "execution_count": 55,
      "metadata": {},
      "outputs": [
        {
          "name": "stdout",
          "output_type": "stream",
          "text": [
            "foo\n",
            "> baz\n",
            "> qux\n",
            "bar\n",
            "> baz\n",
            "> qux\n"
          ]
        }
      ],
      "source": [
        "# List_name.pop(index)\n",
        "# The pop() method removes the item at the given index from the list and returns the removed item.\n",
        "a = ['foo', 'bar']\n",
        "while len(a):\n",
        "    print(a.pop(0))\n",
        "    b = ['baz', 'qux']\n",
        "    while len(b):\n",
        "        print('>', b.pop(0))"
      ]
    },
    {
      "cell_type": "code",
      "execution_count": 8,
      "metadata": {
        "colab": {
          "base_uri": "https://localhost:8080/",
          "height": 52
        },
        "id": "T8ZpVDFh0RSy",
        "outputId": "1aa5ac0a-0ccf-4b80-d000-316284f03b2e"
      },
      "outputs": [
        {
          "name": "stdout",
          "output_type": "stream",
          "text": [
            "2\n",
            "5\n"
          ]
        }
      ],
      "source": [
        "# len() function returns the number of items in an object.\n",
        "a = ['foo', 'bar']\n",
        "b = 'hello'\n",
        "print(len(a))\n",
        "print(len(b))"
      ]
    },
    {
      "cell_type": "markdown",
      "metadata": {
        "id": "mtCv33d564Mh"
      },
      "source": [
        "# 5.one-line while loop"
      ]
    },
    {
      "cell_type": "markdown",
      "metadata": {
        "id": "8ucwNEQH67xZ"
      },
      "source": [
        "## 5.1 ยกตัวอย่างการเขียน one-line while"
      ]
    },
    {
      "cell_type": "code",
      "execution_count": 56,
      "metadata": {
        "colab": {
          "base_uri": "https://localhost:8080/",
          "height": 106
        },
        "id": "9e2PZSMcTuAo",
        "outputId": "8fa123a3-c07c-453b-bc11-7909820d79ee"
      },
      "outputs": [
        {
          "name": "stdout",
          "output_type": "stream",
          "text": [
            "4\n",
            "3\n",
            "2\n",
            "1\n",
            "0\n"
          ]
        }
      ],
      "source": [
        "n = 5\n",
        "while n > 0:\n",
        "  n -= 1\n",
        "  print(n)"
      ]
    },
    {
      "cell_type": "code",
      "execution_count": 57,
      "metadata": {},
      "outputs": [
        {
          "name": "stdout",
          "output_type": "stream",
          "text": [
            "4\n",
            "3\n",
            "2\n",
            "1\n",
            "0\n"
          ]
        }
      ],
      "source": [
        "n = 5 \n",
        "while n > 0: n -= 1; print(n)"
      ]
    },
    {
      "cell_type": "markdown",
      "metadata": {
        "id": "QH2dvqaf6_Ab"
      },
      "source": [
        "## 5.2. ข้อจำกัดของการเขียน one-line while\n",
        "\n",
        "* This only works with simple statements though. You can’t combine two compound statements into one line. Thus, you can specify a while loop all on one line as above, and you write an if statement on one line\n",
        "```python\n",
        "\n",
        ">>> if True: print('foo')\n",
        "\n",
        "foo\n",
        "\n",
        "But you can’t do this:\n",
        ">>> while n > 0: n -= 1; if True: print('foo')\n",
        "SyntaxError: invalid syntax\n",
        "\n",
        "```"
      ]
    },
    {
      "cell_type": "markdown",
      "metadata": {
        "id": "RbchSbjw7pMh"
      },
      "source": [
        "# 6.การวนซ้ำแบบ for"
      ]
    },
    {
      "cell_type": "markdown",
      "metadata": {
        "id": "BHw2sCrk7vC5"
      },
      "source": [
        "## 6.1 อธิบายใช้คำสั่ง for"
      ]
    },
    {
      "cell_type": "markdown",
      "metadata": {
        "id": "jr2QLNJJKa6v"
      },
      "source": [
        "```python\n",
        "\n",
        "#Syntax For Loop\n",
        "\n",
        "for i in <collection>\n",
        "    <loop body>\n",
        "\n",
        "````"
      ]
    },
    {
      "cell_type": "markdown",
      "metadata": {
        "id": "Nz94vzd1706h"
      },
      "source": [
        "## 6.2 ยกตัวอย่างการใช้ for"
      ]
    },
    {
      "cell_type": "code",
      "execution_count": 10,
      "metadata": {
        "colab": {
          "base_uri": "https://localhost:8080/",
          "height": 185
        },
        "id": "YIou7OyXVrSh",
        "outputId": "42fbae7b-a58f-4788-d2f9-864328ab2411"
      },
      "outputs": [
        {
          "name": "stdout",
          "output_type": "stream",
          "text": [
            "0\n",
            "1\n",
            "2\n",
            "3\n",
            "4\n",
            "5\n",
            "6\n",
            "7\n",
            "8\n",
            "9\n"
          ]
        }
      ],
      "source": [
        "num = [0,1,2,3,4,5,6,7,8,9]\n",
        "for i in num:\n",
        "  print(i)"
      ]
    },
    {
      "cell_type": "code",
      "execution_count": 11,
      "metadata": {
        "colab": {
          "base_uri": "https://localhost:8080/",
          "height": 70
        },
        "id": "RQB-N2swExZv",
        "outputId": "1ea88b8c-db5a-43b1-d801-9b187e7f8068"
      },
      "outputs": [
        {
          "name": "stdout",
          "output_type": "stream",
          "text": [
            "apple\n",
            "banana\n",
            "cherry\n"
          ]
        }
      ],
      "source": [
        "fruits = [\"apple\", \"banana\", \"cherry\"]\n",
        "for x in fruits:\n",
        "  print(x)"
      ]
    },
    {
      "cell_type": "markdown",
      "metadata": {},
      "source": [
        "## extra : List compehention"
      ]
    },
    {
      "cell_type": "code",
      "execution_count": 41,
      "metadata": {},
      "outputs": [
        {
          "name": "stdout",
          "output_type": "stream",
          "text": [
            "apple\n",
            "banana\n",
            "cherry\n"
          ]
        },
        {
          "data": {
            "text/plain": [
              "[None, None, None]"
            ]
          },
          "execution_count": 41,
          "metadata": {},
          "output_type": "execute_result"
        }
      ],
      "source": [
        "[print(x) for x in fruits]"
      ]
    },
    {
      "cell_type": "markdown",
      "metadata": {
        "id": "5zFDOqPI7zyA"
      },
      "source": [
        "# 7.การใช้ range() และ การลูป string"
      ]
    },
    {
      "cell_type": "markdown",
      "metadata": {
        "id": "pKQ-vHHU8B_B"
      },
      "source": [
        "## 7.1 ยกตัวอย่างการใช้ for ใน string"
      ]
    },
    {
      "cell_type": "code",
      "execution_count": 58,
      "metadata": {
        "colab": {
          "base_uri": "https://localhost:8080/",
          "height": 124
        },
        "id": "aY8AcnNhA9AM",
        "outputId": "729ebf7f-af4d-4bd1-ea3b-3e8fc303977e"
      },
      "outputs": [
        {
          "name": "stdout",
          "output_type": "stream",
          "text": [
            "b\n",
            "a\n",
            "n\n",
            "a\n",
            "n\n",
            "a\n"
          ]
        }
      ],
      "source": [
        "for x in \"banana\":\n",
        "  print(x)"
      ]
    },
    {
      "cell_type": "markdown",
      "metadata": {
        "id": "Y_zwxvdi8FA5"
      },
      "source": [
        "## 7.2 ยกตัวอย่างการใช้ range"
      ]
    },
    {
      "cell_type": "code",
      "execution_count": 59,
      "metadata": {
        "colab": {
          "base_uri": "https://localhost:8080/",
          "height": 186
        },
        "id": "3XALZ00bFGmF",
        "outputId": "bd18fc2f-c6cc-47ba-caf0-2f73ea3c7abc"
      },
      "outputs": [
        {
          "name": "stdout",
          "output_type": "stream",
          "text": [
            "0\n",
            "1\n",
            "2\n",
            "3\n",
            "4\n",
            "5\n",
            "6\n",
            "7\n",
            "8\n",
            "9\n"
          ]
        }
      ],
      "source": [
        "for i in range(0,10):  # (start, stop, step)\n",
        "  print(i)"
      ]
    },
    {
      "cell_type": "code",
      "execution_count": 60,
      "metadata": {
        "colab": {
          "base_uri": "https://localhost:8080/",
          "height": 106
        },
        "id": "n3cWORPyBE3J",
        "outputId": "7a217ce9-fd45-4312-cc80-e0c3727f91b2"
      },
      "outputs": [
        {
          "name": "stdout",
          "output_type": "stream",
          "text": [
            "0\n",
            "2\n",
            "4\n",
            "6\n",
            "8\n"
          ]
        }
      ],
      "source": [
        "for i in range(0,10,2):  # (start, stop, step)\n",
        "  print(i)"
      ]
    },
    {
      "cell_type": "markdown",
      "metadata": {
        "id": "tKuhxBbWDucu"
      },
      "source": [
        "## 7.3 การใช้ for ใน dictionary"
      ]
    },
    {
      "cell_type": "code",
      "execution_count": 61,
      "metadata": {
        "colab": {
          "base_uri": "https://localhost:8080/",
          "height": 70
        },
        "id": "dnUUKC7AD9OL",
        "outputId": "53f68079-8c6d-4d8b-df63-e826ea5395dc"
      },
      "outputs": [
        {
          "name": "stdout",
          "output_type": "stream",
          "text": [
            "color\n",
            "fruit\n",
            "pet\n"
          ]
        }
      ],
      "source": [
        "a_dict = {'color': 'blue', 'fruit': 'apple', 'pet': 'dog'}\n",
        "for key in a_dict:\n",
        "  print(key)"
      ]
    },
    {
      "cell_type": "code",
      "execution_count": 62,
      "metadata": {
        "colab": {
          "base_uri": "https://localhost:8080/",
          "height": 70
        },
        "id": "zScRXo79EBkh",
        "outputId": "8b7712de-fed9-4e60-89e7-8faec57e0ed0"
      },
      "outputs": [
        {
          "name": "stdout",
          "output_type": "stream",
          "text": [
            "blue\n",
            "apple\n",
            "dog\n"
          ]
        }
      ],
      "source": [
        "for key in a_dict:\n",
        "  print(a_dict[key])"
      ]
    },
    {
      "cell_type": "markdown",
      "metadata": {
        "id": "Jf8Zj0pDOdqx"
      },
      "source": [
        "## 7.4 การใช้ for กับ tuple"
      ]
    },
    {
      "cell_type": "code",
      "execution_count": 63,
      "metadata": {
        "colab": {
          "base_uri": "https://localhost:8080/",
          "height": 70
        },
        "id": "55WQTpgEOirP",
        "outputId": "ef94bc6b-f99c-4d27-a70a-ea3f3d527456"
      },
      "outputs": [
        {
          "name": "stdout",
          "output_type": "stream",
          "text": [
            "apple\n",
            "banana\n",
            "cherry\n"
          ]
        }
      ],
      "source": [
        "thistuple = (\"apple\", \"banana\", \"cherry\")\n",
        "for x in thistuple:\n",
        "  print(x)"
      ]
    },
    {
      "cell_type": "markdown",
      "metadata": {
        "id": "uB0JGWteLl3a"
      },
      "source": [
        "## 7.5 การใช้ for กับ enumerate"
      ]
    },
    {
      "cell_type": "code",
      "execution_count": 64,
      "metadata": {
        "colab": {
          "base_uri": "https://localhost:8080/",
          "height": 70
        },
        "id": "RS9cfpANLptv",
        "outputId": "7e47b631-240f-46e7-b34e-25637b0ab6b1"
      },
      "outputs": [
        {
          "name": "stdout",
          "output_type": "stream",
          "text": [
            "index is 0 and value is apples\n",
            "index is 1 and value is bananas\n",
            "index is 2 and value is oranges\n"
          ]
        }
      ],
      "source": [
        "# enumerate list\n",
        "L = ['apples', 'bananas', 'oranges']\n",
        "for idx, val in enumerate(L):\n",
        "  print(\"index is %d and value is %s\" % (idx, val))"
      ]
    },
    {
      "cell_type": "code",
      "execution_count": 65,
      "metadata": {
        "colab": {
          "base_uri": "https://localhost:8080/",
          "height": 70
        },
        "id": "1xPf6oScNo9c",
        "outputId": "0e507a9c-1286-436f-c9b8-63705208d10d"
      },
      "outputs": [
        {
          "name": "stdout",
          "output_type": "stream",
          "text": [
            "index is 0 and value is apples\n",
            "index is 1 and value is bananas\n",
            "index is 2 and value is oranges\n"
          ]
        }
      ],
      "source": [
        "# enumerate tuple\n",
        "t = ('apples', 'bananas', 'oranges')\n",
        "for idx, val in enumerate(t):\n",
        "  print(\"index is %d and value is %s\" % (idx, val))"
      ]
    },
    {
      "cell_type": "code",
      "execution_count": 66,
      "metadata": {
        "colab": {
          "base_uri": "https://localhost:8080/",
          "height": 124
        },
        "id": "0xueTEznOGGl",
        "outputId": "e47b8692-15ca-4f0a-e4c3-2b0fb89ff280"
      },
      "outputs": [
        {
          "name": "stdout",
          "output_type": "stream",
          "text": [
            "index is 0 and character is P\n",
            "index is 1 and character is y\n",
            "index is 2 and character is t\n",
            "index is 3 and character is h\n",
            "index is 4 and character is o\n",
            "index is 5 and character is n\n"
          ]
        }
      ],
      "source": [
        "str = \"Python\"\n",
        "for idx, ch in enumerate(str):\n",
        "  print(\"index is %d and character is %s\" \\\n",
        "         % (idx, ch))"
      ]
    },
    {
      "cell_type": "markdown",
      "metadata": {
        "id": "i1rCXTZCOXXU"
      },
      "source": [
        "## 7.6 การใช้ for กับ zip"
      ]
    },
    {
      "cell_type": "code",
      "execution_count": 67,
      "metadata": {
        "colab": {
          "base_uri": "https://localhost:8080/",
          "height": 35
        },
        "id": "RQtpKWU-PYMr",
        "outputId": "b755d99d-a513-40a2-a4c4-15748aa8b9f9"
      },
      "outputs": [
        {
          "name": "stdout",
          "output_type": "stream",
          "text": [
            "[('ก', 'a'), ('ข', 'b'), ('ค', 'c')]\n"
          ]
        }
      ],
      "source": [
        "print(list(zip('กขค','abc'))) # ได้ [('ก', 'a'), ('ข', 'b'), ('ค', 'c')]"
      ]
    },
    {
      "cell_type": "code",
      "execution_count": 68,
      "metadata": {
        "colab": {
          "base_uri": "https://localhost:8080/",
          "height": 88
        },
        "id": "LiH5Ytu1OWL0",
        "outputId": "0599406e-5fcb-4d28-8d2e-fe0f20504674"
      },
      "outputs": [
        {
          "name": "stdout",
          "output_type": "stream",
          "text": [
            "ก a\n",
            "ข b\n",
            "ค c\n",
            "ง d\n"
          ]
        }
      ],
      "source": [
        "a = ['ก','ข','ค','ง']\n",
        "b = ['a','b','c','d']\n",
        "for x,y in zip(a,b):\n",
        "    print(x , y)"
      ]
    },
    {
      "cell_type": "markdown",
      "metadata": {
        "id": "Yds4kltu8IrR"
      },
      "source": [
        "# 8.if-else in for"
      ]
    },
    {
      "cell_type": "markdown",
      "metadata": {
        "id": "ycP_yDmx8QAB"
      },
      "source": [
        "## 8.1ยกตัวอย่าง if-else ใน for"
      ]
    },
    {
      "cell_type": "code",
      "execution_count": 72,
      "metadata": {
        "colab": {
          "base_uri": "https://localhost:8080/",
          "height": 35
        },
        "id": "gTagMWq_n_J1",
        "outputId": "61ebe1b7-8b67-46b0-f420-1a70b8f92714"
      },
      "outputs": [
        {
          "name": "stdout",
          "output_type": "stream",
          "text": [
            "HELLO"
          ]
        }
      ],
      "source": [
        "s = 'steganograpHy is the practicE of conceaLing a file, message, image, or video within another fiLe, message, image, Or video.'\n",
        "for char in s:\n",
        "    if char.isupper():\n",
        "        print(char, end=\"\")  \n",
        "        # print(char)\n",
        "\n",
        "# Python’s print() function comes with a parameter called ‘end’. \n",
        "# By default, the value of this parameter is ‘\\n’, i.e. the new line character. "
      ]
    },
    {
      "cell_type": "code",
      "execution_count": 83,
      "metadata": {},
      "outputs": [
        {
          "name": "stdout",
          "output_type": "stream",
          "text": [
            "foo\n",
            "1\n",
            "baz\n",
            "qux\n"
          ]
        }
      ],
      "source": [
        "for i in ['foo', 'bar', 'baz', 'qux']:\n",
        "    if i == 'bar':\n",
        "        print('1')\n",
        "    else : print(i)"
      ]
    },
    {
      "cell_type": "code",
      "execution_count": 84,
      "metadata": {
        "colab": {
          "base_uri": "https://localhost:8080/",
          "height": 230
        },
        "id": "ARadmsmsCV21",
        "outputId": "2ac72613-6d33-4042-f80f-97d45d00c07f"
      },
      "outputs": [
        {
          "name": "stdout",
          "output_type": "stream",
          "text": [
            "0\n",
            "no\n",
            "1\n",
            "no\n",
            "2\n",
            "no\n",
            "3\n",
            "3\n",
            "4\n",
            "no\n",
            "5\n",
            "no\n"
          ]
        }
      ],
      "source": [
        "for x in range(6):\n",
        "  print(x)\n",
        "  if x == 3:\n",
        "    print('3')\n",
        "  else:\n",
        "    print(\"no\")"
      ]
    },
    {
      "cell_type": "markdown",
      "metadata": {
        "id": "y8-DlVj8-JmY"
      },
      "source": [
        "# 9.Nested For Loops and pass For Loops"
      ]
    },
    {
      "cell_type": "markdown",
      "metadata": {
        "id": "VKavE854-Mdo"
      },
      "source": [
        "## 9.1 ยกตัวอย่างการใช้ nested for loop"
      ]
    },
    {
      "cell_type": "markdown",
      "metadata": {
        "id": "RO5zb7e5g_e_"
      },
      "source": [
        "Loops Inside Loops\n",
        "A nested loop is a loop inside a loop.\n",
        "\n",
        "The \"inner loop\" will be executed one time for each iteration of the \"outer loop\":"
      ]
    },
    {
      "cell_type": "code",
      "execution_count": 85,
      "metadata": {
        "colab": {
          "base_uri": "https://localhost:8080/",
          "height": 169
        },
        "id": "1RFV3iZxg5Ll",
        "outputId": "b383f090-4a33-4369-cd97-2a131a43a095"
      },
      "outputs": [
        {
          "name": "stdout",
          "output_type": "stream",
          "text": [
            "small apple\n",
            "small banana\n",
            "small cherry\n",
            "big apple\n",
            "big banana\n",
            "big cherry\n",
            "tasty apple\n",
            "tasty banana\n",
            "tasty cherry\n"
          ]
        }
      ],
      "source": [
        "adj = [\"small\", \"big\", \"tasty\"]\n",
        "fruits = [\"apple\", \"banana\", \"cherry\"]\n",
        "\n",
        "for x in adj:\n",
        "  for y in fruits:\n",
        "    print(x, y)"
      ]
    },
    {
      "cell_type": "code",
      "execution_count": 86,
      "metadata": {
        "colab": {
          "base_uri": "https://localhost:8080/",
          "height": 1000
        },
        "id": "yp2uLN-xblON",
        "outputId": "d8f3d589-2cff-4abc-cad7-1c4dab86c270"
      },
      "outputs": [
        {
          "name": "stdout",
          "output_type": "stream",
          "text": [
            "1 x 1 = 1\n",
            "1 x 2 = 2\n",
            "1 x 3 = 3\n",
            "1 x 4 = 4\n",
            "1 x 5 = 5\n",
            "1 x 6 = 6\n",
            "1 x 7 = 7\n",
            "1 x 8 = 8\n",
            "1 x 9 = 9\n",
            "1 x 10 = 10\n",
            "1 x 11 = 11\n",
            "1 x 12 = 12\n",
            "2 x 1 = 2\n",
            "2 x 2 = 4\n",
            "2 x 3 = 6\n",
            "2 x 4 = 8\n",
            "2 x 5 = 10\n",
            "2 x 6 = 12\n",
            "2 x 7 = 14\n",
            "2 x 8 = 16\n",
            "2 x 9 = 18\n",
            "2 x 10 = 20\n",
            "2 x 11 = 22\n",
            "2 x 12 = 24\n",
            "3 x 1 = 3\n",
            "3 x 2 = 6\n",
            "3 x 3 = 9\n",
            "3 x 4 = 12\n",
            "3 x 5 = 15\n",
            "3 x 6 = 18\n",
            "3 x 7 = 21\n",
            "3 x 8 = 24\n",
            "3 x 9 = 27\n",
            "3 x 10 = 30\n",
            "3 x 11 = 33\n",
            "3 x 12 = 36\n",
            "4 x 1 = 4\n",
            "4 x 2 = 8\n",
            "4 x 3 = 12\n",
            "4 x 4 = 16\n",
            "4 x 5 = 20\n",
            "4 x 6 = 24\n",
            "4 x 7 = 28\n",
            "4 x 8 = 32\n",
            "4 x 9 = 36\n",
            "4 x 10 = 40\n",
            "4 x 11 = 44\n",
            "4 x 12 = 48\n",
            "5 x 1 = 5\n",
            "5 x 2 = 10\n",
            "5 x 3 = 15\n",
            "5 x 4 = 20\n",
            "5 x 5 = 25\n",
            "5 x 6 = 30\n",
            "5 x 7 = 35\n",
            "5 x 8 = 40\n",
            "5 x 9 = 45\n",
            "5 x 10 = 50\n",
            "5 x 11 = 55\n",
            "5 x 12 = 60\n",
            "6 x 1 = 6\n",
            "6 x 2 = 12\n",
            "6 x 3 = 18\n",
            "6 x 4 = 24\n",
            "6 x 5 = 30\n",
            "6 x 6 = 36\n",
            "6 x 7 = 42\n",
            "6 x 8 = 48\n",
            "6 x 9 = 54\n",
            "6 x 10 = 60\n",
            "6 x 11 = 66\n",
            "6 x 12 = 72\n",
            "7 x 1 = 7\n",
            "7 x 2 = 14\n",
            "7 x 3 = 21\n",
            "7 x 4 = 28\n",
            "7 x 5 = 35\n",
            "7 x 6 = 42\n",
            "7 x 7 = 49\n",
            "7 x 8 = 56\n",
            "7 x 9 = 63\n",
            "7 x 10 = 70\n",
            "7 x 11 = 77\n",
            "7 x 12 = 84\n",
            "8 x 1 = 8\n",
            "8 x 2 = 16\n",
            "8 x 3 = 24\n",
            "8 x 4 = 32\n",
            "8 x 5 = 40\n",
            "8 x 6 = 48\n",
            "8 x 7 = 56\n",
            "8 x 8 = 64\n",
            "8 x 9 = 72\n",
            "8 x 10 = 80\n",
            "8 x 11 = 88\n",
            "8 x 12 = 96\n",
            "9 x 1 = 9\n",
            "9 x 2 = 18\n",
            "9 x 3 = 27\n",
            "9 x 4 = 36\n",
            "9 x 5 = 45\n",
            "9 x 6 = 54\n",
            "9 x 7 = 63\n",
            "9 x 8 = 72\n",
            "9 x 9 = 81\n",
            "9 x 10 = 90\n",
            "9 x 11 = 99\n",
            "9 x 12 = 108\n",
            "10 x 1 = 10\n",
            "10 x 2 = 20\n",
            "10 x 3 = 30\n",
            "10 x 4 = 40\n",
            "10 x 5 = 50\n",
            "10 x 6 = 60\n",
            "10 x 7 = 70\n",
            "10 x 8 = 80\n",
            "10 x 9 = 90\n",
            "10 x 10 = 100\n",
            "10 x 11 = 110\n",
            "10 x 12 = 120\n",
            "11 x 1 = 11\n",
            "11 x 2 = 22\n",
            "11 x 3 = 33\n",
            "11 x 4 = 44\n",
            "11 x 5 = 55\n",
            "11 x 6 = 66\n",
            "11 x 7 = 77\n",
            "11 x 8 = 88\n",
            "11 x 9 = 99\n",
            "11 x 10 = 110\n",
            "11 x 11 = 121\n",
            "11 x 12 = 132\n",
            "12 x 1 = 12\n",
            "12 x 2 = 24\n",
            "12 x 3 = 36\n",
            "12 x 4 = 48\n",
            "12 x 5 = 60\n",
            "12 x 6 = 72\n",
            "12 x 7 = 84\n",
            "12 x 8 = 96\n",
            "12 x 9 = 108\n",
            "12 x 10 = 120\n",
            "12 x 11 = 132\n",
            "12 x 12 = 144\n"
          ]
        }
      ],
      "source": [
        "for x in range(12):\n",
        "    for y in range(12):\n",
        "        print(x+1,\"x\",y+1,'=',(x+1)*(y+1))"
      ]
    },
    {
      "cell_type": "markdown",
      "metadata": {
        "id": "TVG7MMzz-Uag"
      },
      "source": [
        "# 10.การใช้ Pass Break และ Continue\n"
      ]
    },
    {
      "cell_type": "markdown",
      "metadata": {
        "id": "VZ_q633R-YII"
      },
      "source": [
        "## 10.1 อธิบายหลักการใช้\n",
        "\n",
        "* การใช้ break\n",
        "จะยุติการทำงานทั้งหมดของลูปที่บรรจุคำสั่ง break เอาไว้ แต่ในกรณีการใช้ break กับลูปที่ซ้อนกันหลายชั้น(nested-loop) โปรแกรมจะทำการยุติการทำงานเฉพาะแค่ลูปในสุดที่บรรจุคำสั่งนั้นอยู่เท่านั้น โดยที่ลูปชั้นนอกยังคงดำเนินการต่อไป\n",
        "\n",
        "* การใช้ continue\n",
        "ใช้สำหรับกรณีที่ต้องการจะข้ามการทำงานของชุดคำสั่งเฉพาะรอบนั้นๆ ของลูป แต่ไม่ได้ยุติการทำงานทั้งหมดของลูป\n",
        "\n",
        "* การใช้ Pass ใช้สำหรับกรณีที่ต้องการจะข้ามการทำงานของชุดคำสั่งเฉพาะรอบนั้นๆ ของลูป "
      ]
    },
    {
      "cell_type": "markdown",
      "metadata": {
        "id": "SfpDXmBE-a9g"
      },
      "source": [
        "## 10.2 ยกตัวอย่างใช้ใน for และ while"
      ]
    },
    {
      "cell_type": "code",
      "execution_count": 87,
      "metadata": {
        "colab": {
          "base_uri": "https://localhost:8080/",
          "height": 124
        },
        "id": "BzBpXGEjPaLv",
        "outputId": "70da13d0-a173-42ed-ed09-750c065eab1b"
      },
      "outputs": [
        {
          "name": "stdout",
          "output_type": "stream",
          "text": [
            "small apple\n",
            "small banana\n",
            "big apple\n",
            "big banana\n",
            "tasty apple\n",
            "tasty banana\n"
          ]
        }
      ],
      "source": [
        "adj = [\"small\", \"big\", \"tasty\"]\n",
        "fruits = [\"apple\", \"banana\", \"cherry\"]\n",
        "for x in adj:\n",
        "  for y in fruits:\n",
        "    print(x, y)\n",
        "    if y == \"banana\":\n",
        "      break"
      ]
    },
    {
      "cell_type": "code",
      "execution_count": 88,
      "metadata": {
        "colab": {
          "base_uri": "https://localhost:8080/",
          "height": 35
        },
        "id": "GpyoU51TF7Dy",
        "outputId": "09737b2c-ba78-467c-d62c-5deb8846a59b"
      },
      "outputs": [
        {
          "name": "stdout",
          "output_type": "stream",
          "text": [
            "john\n",
            "best\n"
          ]
        }
      ],
      "source": [
        "# break\n",
        "for i in ['john', 'best', 'tim', 'jason']:\n",
        "    if i == 'tim':\n",
        "        break\n",
        "    print(i)\n",
        "else:\n",
        "    print('Done.') "
      ]
    },
    {
      "cell_type": "code",
      "execution_count": 89,
      "metadata": {
        "colab": {
          "base_uri": "https://localhost:8080/",
          "height": 186
        },
        "id": "45MY85NiiChV",
        "outputId": "50198ed1-0a05-4023-9f4e-809559f638c1"
      },
      "outputs": [
        {
          "name": "stdout",
          "output_type": "stream",
          "text": [
            "Number is 0\n",
            "Number is 1\n",
            "Number is 2\n",
            "Number is 3\n",
            "Number is 4\n",
            "Number is 6\n",
            "Number is 7\n",
            "Number is 8\n",
            "Number is 9\n",
            "Out of loop\n"
          ]
        }
      ],
      "source": [
        "for number in range(10):\n",
        "    if number == 5:\n",
        "        continue    # continue here\n",
        "\n",
        "    print(f'Number is {number}')\n",
        "\n",
        "print('Out of loop')"
      ]
    },
    {
      "cell_type": "code",
      "execution_count": 90,
      "metadata": {
        "colab": {
          "base_uri": "https://localhost:8080/",
          "height": 203
        },
        "id": "GxfvtsuvegSr",
        "outputId": "16222035-1e76-4f13-e250-5f82ab680918"
      },
      "outputs": [
        {
          "name": "stdout",
          "output_type": "stream",
          "text": [
            "Number is 0\n",
            "Number is 1\n",
            "Number is 2\n",
            "Number is 3\n",
            "Number is 4\n",
            "Number is 5\n",
            "Number is 6\n",
            "Number is 7\n",
            "Number is 8\n",
            "Number is 9\n",
            "Out of loop\n"
          ]
        }
      ],
      "source": [
        "for number in range(10):\n",
        "    if number == 5:\n",
        "        pass    # pass here\n",
        "\n",
        "    print(f'Number is {number}')\n",
        "\n",
        "print('Out of loop')"
      ]
    },
    {
      "cell_type": "code",
      "execution_count": 91,
      "metadata": {
        "id": "77ZXO6rIO8fl"
      },
      "outputs": [],
      "source": [
        "s = \"Hello World\"\n",
        "  \n",
        "# Empty loop \n",
        "for i in s: \n",
        "    # No error will be raised \n",
        "    pass"
      ]
    }
  ],
  "metadata": {
    "colab": {
      "name": "For Loops.ipynb",
      "provenance": []
    },
    "kernelspec": {
      "display_name": "Python 3",
      "name": "python3"
    },
    "language_info": {
      "codemirror_mode": {
        "name": "ipython",
        "version": 3
      },
      "file_extension": ".py",
      "mimetype": "text/x-python",
      "name": "python",
      "nbconvert_exporter": "python",
      "pygments_lexer": "ipython3",
      "version": "3.10.3"
    }
  },
  "nbformat": 4,
  "nbformat_minor": 0
}
